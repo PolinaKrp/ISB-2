{
  "nbformat": 4,
  "nbformat_minor": 0,
  "metadata": {
    "colab": {
      "provenance": []
    },
    "kernelspec": {
      "name": "python3",
      "display_name": "Python 3"
    },
    "language_info": {
      "name": "python"
    }
  },
  "cells": [
    {
      "cell_type": "code",
      "execution_count": 6,
      "metadata": {
        "colab": {
          "base_uri": "https://localhost:8080/"
        },
        "id": "32D1czURGjr2",
        "outputId": "721b1652-ee9e-41a7-9401-5b9320dd18b2"
      },
      "outputs": [
        {
          "output_type": "stream",
          "name": "stdout",
          "text": [
            "P = 0.8574802072209932\n"
          ]
        }
      ],
      "source": [
        "import sys\n",
        "import math\n",
        "\n",
        "\n",
        "sequence = \"00011111010110101001011101010011010101100110000111111110110010010001001001000011001111101011000000100001110011011110010011100101\"\n",
        "n = len(sequence)\n",
        "ratio = 1 / n\n",
        "sum_elem = 0\n",
        "for elem in sequence:\n",
        "    if elem == '1':\n",
        "        sum_elem += 1\n",
        "    if elem == '0':\n",
        "        sum_elem += 0\n",
        "one = ratio * sum_elem\n",
        "if (abs(one - 0.5)) < (2 / math.sqrt(n)) == False:\n",
        "    sys.exit(\"P = 0\")\n",
        "v = 0\n",
        "massiv = list(sequence)\n",
        "for i in range(0, 127):\n",
        "    if massiv[i] == massiv[i + 1]:\n",
        "        v += 0\n",
        "    else:\n",
        "        v += 1\n",
        "p = math.erfc(abs(v - 2 * n * one * (1 - one)) /\n",
        "              (2 * math.sqrt(2 * n) * one * (1 - one)))\n",
        "print(\"P =\", p)"
      ]
    }
  ]
}