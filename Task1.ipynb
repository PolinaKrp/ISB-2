{
  "nbformat": 4,
  "nbformat_minor": 0,
  "metadata": {
    "colab": {
      "provenance": [],
      "name": "Task1.ipynb"
    },
    "kernelspec": {
      "name": "python3",
      "display_name": "Python 3"
    },
    "language_info": {
      "name": "python"
    }
  },
  "cells": [
    {
      "cell_type": "code",
      "execution_count": 8,
      "metadata": {
        "colab": {
          "base_uri": "https://localhost:8080/"
        },
        "id": "BVF79Dt396sB",
        "outputId": "e335d6d0-9878-4144-edbe-912f4ef6e924"
      },
      "outputs": [
        {
          "output_type": "stream",
          "name": "stdout",
          "text": [
            "P = 0.8596837951986662\n"
          ]
        }
      ],
      "source": [
        "import math\n",
        "\n",
        "sequence = \"00011111010110101001011101010011010101100110000111111110110010010001001001000011001111101011000000100001110011011110010011100101\"\n",
        "n = len(sequence)\n",
        "ratio = (1 / math.sqrt(n))\n",
        "sum_elem = 0\n",
        "for elem in sequence:\n",
        "    if elem == '1':\n",
        "        sum_elem += 1\n",
        "    if elem == '0':\n",
        "        sum_elem += -1\n",
        "s_n = ratio * sum_elem\n",
        "p = math.erfc(s_n / math.sqrt(2))\n",
        "print(\"P =\", p)"
      ]
    }
  ]
}