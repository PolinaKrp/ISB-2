{
  "nbformat": 4,
  "nbformat_minor": 0,
  "metadata": {
    "colab": {
      "provenance": []
    },
    "kernelspec": {
      "name": "python3",
      "display_name": "Python 3"
    },
    "language_info": {
      "name": "python"
    }
  },
  "cells": [
    {
      "cell_type": "code",
      "execution_count": 6,
      "metadata": {
        "colab": {
          "base_uri": "https://localhost:8080/"
        },
        "id": "32D1czURGjr2",
        "outputId": "19d66466-9ef3-4192-bbe1-8f646061e453"
      },
      "outputs": [
        {
          "output_type": "stream",
          "name": "stdout",
          "text": [
            "0.682855154252068\n"
          ]
        }
      ],
      "source": [
        "import scipy\n",
        "\n",
        "\n",
        "sequence = \"00011111010110101001011101010011010101100110000111111110110010010001001001000011001111101011000000100001110011011110010011100101\"\n",
        "n = len(sequence)\n",
        "mas = [0] * 16\n",
        "for i in range(16):\n",
        "    mas[i] = [0] * 8\n",
        "count = 0\n",
        "for i in range(16):\n",
        "    for j in range(8):\n",
        "        mas[i][j] = sequence[count]\n",
        "        j += 1\n",
        "        count += 1\n",
        "    i += 1\n",
        "max_value = []\n",
        "for i in range(16):\n",
        "    maximum = 0\n",
        "    count = 0\n",
        "    for j in range(8):\n",
        "        if mas[i][j] == '1' and j != 7:\n",
        "            count += 1\n",
        "        elif mas[i][j] == '1' and j == 7:\n",
        "            count += 1\n",
        "            if maximum < count:\n",
        "                maximum = count\n",
        "        elif mas[i][j] == '0':\n",
        "            if maximum < count:\n",
        "                maximum = count\n",
        "            count = 0\n",
        "    max_value.append(maximum)\n",
        "list_v = [0, 0, 0, 0]\n",
        "for elem in max_value:\n",
        "    if elem <= 1:\n",
        "        list_v[0] += 1\n",
        "    if elem == 2:\n",
        "        list_v[1] += 1\n",
        "    if elem == 3:\n",
        "        list_v[2] += 1\n",
        "    if elem >= 4:\n",
        "        list_v[3] += 1\n",
        "hi = 0\n",
        "pi = [0.2148, 0.3672, 0.2305, 0.1875]\n",
        "i = 0\n",
        "for elem in list_v:\n",
        "    hi += (((elem - 16 * pi[i]) ** 2) / (16 * pi[i]))\n",
        "    i += 1\n",
        "p = scipy.special.gammaincc(3 / 2, hi / 2)\n",
        "print(p)"
      ]
    }
  ]
}